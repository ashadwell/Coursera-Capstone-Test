{
 "cells": [
  {
   "cell_type": "markdown",
   "metadata": {},
   "source": [
    "# **Battle of the Nieghboorhoods (Week 1)**"
   ]
  },
  {
   "cell_type": "markdown",
   "metadata": {},
   "source": [
    "## **1. Introduction to the Business Problem**"
   ]
  },
  {
   "cell_type": "markdown",
   "metadata": {},
   "source": [
    "An eager new chef is looking to establish himself in the Los Angeles culinary scene, but he is not sure which location will be the most successful. Los Angeles has numerous locations with a robust restaurant scene, but data analysis is necessary to chose the correct location. Ensuring the right location could be make it or break it for this this chef and several factors will be considered in the location hunt. According to [The Balance Small Business website](https://www.thebalancesmb.com/choosing-restaurant-location-2888543), there are several pertinent decision making factors. \n",
    "\n",
    "1. Visibility - Setting up in  a high foot traffic area. \n",
    "2. Size - How big or small is the restaurant going to be. \n",
    "3. Neighborhood - This is two pronged, in that who else has a restaurant space as well as the crime statistics in the area. \n",
    "4. Affordability - The cost of the lot. \n",
    "5. Competitor Analysis - This goes hand in hand with Neighborhood but is important in it's own right. \n",
    "\n",
    "In this project, we will use data from the Foursqaure API to address the aforementioned data points. "
   ]
  },
  {
   "cell_type": "markdown",
   "metadata": {},
   "source": [
    "## **2. Data**"
   ]
  },
  {
   "cell_type": "markdown",
   "metadata": {},
   "source": [
    "We will attempt to address all the factors above, but will likely be limited to lack of availability of some data sets. The most important factors, and the ones we will work with will be _Visibility_, _Crime Rates_, and _Pricing_. Competitor analysis will be inherent within the project. \n",
    "\n",
    "##### Datasets:\n",
    "\n",
    "1. Los Angeles Crime data from 2020 to Present - This dataset reflects incidents of crime in the City of Los Angeles dating back to 2020. This data is transcribed from original crime reports that are typed on paper and therefore there may be some inaccuracies within the data. [Link](https://data.lacity.org/A-Safe-City/Crime-Data-from-2020-to-Present/2nrs-mtv8)\n",
    "2. Los Angeles Neighborhoods - Official Certified Neighborhood Council boundaries in the City of Los Angeles created and maintained by the Bureau of Engineering / GIS Mapping Division. [Link](https://data.lacity.org/A-Well-Run-City/Neighborhoods/ykhe-zspy)\n",
    "3. Building Permits by Neighborhood - [Link](https://data.lacity.org/A-Prosperous-City/Building-Permits-by-Neighborhood-Council/8dmw-8ykh)\n",
    "\n",
    "#### Search Engines:\n",
    "\n",
    "[Foursqaure](https://foursquare.com/). We will use the foursquare API to carry out venue and point of interest search. The results will give us an idea of the neighborhood of the venue's potential location."
   ]
  },
  {
   "cell_type": "markdown",
   "metadata": {},
   "source": [
    "# **3. Methodology**\n",
    "\n",
    "For this project, we will explore Los Angeles Neighborhood and Crime data with the intent to answer the critical factors discussed in the intro. Following that, utilization of the Foursquare API will allow us to explore data within our neighborhoods, providing information on venues and other types of restaurants. The neighborhoods will be clustered using the $k$-mean algorithm. The culminating results will provide potential restaurant locations for our entrepreneurial chef. "
   ]
  },
  {
   "cell_type": "code",
   "execution_count": 2,
   "metadata": {},
   "outputs": [
    {
     "name": "stderr",
     "output_type": "stream",
     "text": [
      "/home/jupyterlab/conda/envs/python/lib/python3.6/site-packages/pysal/__init__.py:65: VisibleDeprecationWarning: PySAL's API will be changed on 2018-12-31. The last release made with this API is version 1.14.4. A preview of the next API version is provided in the `pysalnext` package. The API changes and a guide on how to change imports is provided at https://migrating.pysal.org\n",
      "  ), VisibleDeprecationWarning)\n"
     ]
    }
   ],
   "source": [
    "import numpy as np\n",
    "import pandas as pd\n",
    "import geopandas as gpd\n",
    "import folium\n",
    "import matplotlib as mpl\n",
    "import matplotlib.pyplot as plt\n",
    "import matplotlib.cm as cm\n",
    "import matplotlib.colors as colors\n",
    "import pysal as ps\n",
    "import requests\n",
    "import os\n",
    "\n",
    "from pandas.io.json import json_normalize\n",
    "from geopandas.tools import sjoin\n",
    "from geopandas import GeoDataFrame\n",
    "from geopy.geocoders import Nominatim\n",
    "from folium.plugins import FastMarkerCluster\n",
    "from shapely.geometry import Point\n",
    "from sklearn.cluster import KMeans\n",
    "#from branca.utilities import split_six\n",
    "\n",
    "%matplotlib inline"
   ]
  },
  {
   "cell_type": "markdown",
   "metadata": {},
   "source": [
    "## **3.1 Los Angeles Crime Data Analysis**\n",
    "\n",
    " Read the Los Angeles Police Department crime reports and perform our initial checks. "
   ]
  },
  {
   "cell_type": "code",
   "execution_count": 3,
   "metadata": {},
   "outputs": [
    {
     "name": "stdout",
     "output_type": "stream",
     "text": [
      "<class 'pandas.core.frame.DataFrame'>\n",
      "RangeIndex: 61164 entries, 0 to 61163\n",
      "Data columns (total 28 columns):\n",
      " #   Column          Non-Null Count  Dtype  \n",
      "---  ------          --------------  -----  \n",
      " 0   DR_NO           61164 non-null  int64  \n",
      " 1   Date Rptd       61164 non-null  object \n",
      " 2   DATE OCC        61164 non-null  object \n",
      " 3   TIME OCC        61164 non-null  int64  \n",
      " 4   AREA            61164 non-null  int64  \n",
      " 5   AREA NAME       61164 non-null  object \n",
      " 6   Rpt Dist No     61164 non-null  int64  \n",
      " 7   Part 1-2        61164 non-null  int64  \n",
      " 8   Crm Cd          61164 non-null  int64  \n",
      " 9   Crm Cd Desc     61164 non-null  object \n",
      " 10  Mocodes         53863 non-null  object \n",
      " 11  Vict Age        61164 non-null  int64  \n",
      " 12  Vict Sex        54239 non-null  object \n",
      " 13  Vict Descent    54238 non-null  object \n",
      " 14  Premis Cd       61163 non-null  float64\n",
      " 15  Premis Desc     61137 non-null  object \n",
      " 16  Weapon Used Cd  22337 non-null  float64\n",
      " 17  Weapon Desc     22337 non-null  object \n",
      " 18  Status          61164 non-null  object \n",
      " 19  Status Desc     61164 non-null  object \n",
      " 20  Crm Cd 1        61164 non-null  int64  \n",
      " 21  Crm Cd 2        4815 non-null   float64\n",
      " 22  Crm Cd 3        138 non-null    float64\n",
      " 23  Crm Cd 4        6 non-null      float64\n",
      " 24  LOCATION        61164 non-null  object \n",
      " 25  Cross Street    10845 non-null  object \n",
      " 26  LAT             61164 non-null  float64\n",
      " 27  LON             61164 non-null  float64\n",
      "dtypes: float64(7), int64(8), object(13)\n",
      "memory usage: 13.1+ MB\n"
     ]
    }
   ],
   "source": [
    "df_crime = pd.read_csv(\"Crime_Data_from_2020_to_Present.csv\")\n",
    "df_crime.info()"
   ]
  },
  {
   "cell_type": "markdown",
   "metadata": {},
   "source": [
    "First five rows of dataset"
   ]
  },
  {
   "cell_type": "code",
   "execution_count": 4,
   "metadata": {},
   "outputs": [
    {
     "data": {
      "text/html": [
       "<div>\n",
       "<style scoped>\n",
       "    .dataframe tbody tr th:only-of-type {\n",
       "        vertical-align: middle;\n",
       "    }\n",
       "\n",
       "    .dataframe tbody tr th {\n",
       "        vertical-align: top;\n",
       "    }\n",
       "\n",
       "    .dataframe thead th {\n",
       "        text-align: right;\n",
       "    }\n",
       "</style>\n",
       "<table border=\"1\" class=\"dataframe\">\n",
       "  <thead>\n",
       "    <tr style=\"text-align: right;\">\n",
       "      <th></th>\n",
       "      <th>DR_NO</th>\n",
       "      <th>Date Rptd</th>\n",
       "      <th>DATE OCC</th>\n",
       "      <th>TIME OCC</th>\n",
       "      <th>AREA</th>\n",
       "      <th>AREA NAME</th>\n",
       "      <th>Rpt Dist No</th>\n",
       "      <th>Part 1-2</th>\n",
       "      <th>Crm Cd</th>\n",
       "      <th>Crm Cd Desc</th>\n",
       "      <th>Mocodes</th>\n",
       "      <th>Vict Age</th>\n",
       "      <th>Vict Sex</th>\n",
       "      <th>Vict Descent</th>\n",
       "      <th>Premis Cd</th>\n",
       "      <th>Premis Desc</th>\n",
       "      <th>Weapon Used Cd</th>\n",
       "      <th>Weapon Desc</th>\n",
       "      <th>Status</th>\n",
       "      <th>Status Desc</th>\n",
       "      <th>Crm Cd 1</th>\n",
       "      <th>Crm Cd 2</th>\n",
       "      <th>Crm Cd 3</th>\n",
       "      <th>Crm Cd 4</th>\n",
       "      <th>LOCATION</th>\n",
       "      <th>Cross Street</th>\n",
       "      <th>LAT</th>\n",
       "      <th>LON</th>\n",
       "    </tr>\n",
       "  </thead>\n",
       "  <tbody>\n",
       "    <tr>\n",
       "      <th>0</th>\n",
       "      <td>10304468</td>\n",
       "      <td>01/08/2020 12:00:00 AM</td>\n",
       "      <td>01/08/2020 12:00:00 AM</td>\n",
       "      <td>2230</td>\n",
       "      <td>3</td>\n",
       "      <td>Southwest</td>\n",
       "      <td>377</td>\n",
       "      <td>2</td>\n",
       "      <td>624</td>\n",
       "      <td>BATTERY - SIMPLE ASSAULT</td>\n",
       "      <td>0444 0913</td>\n",
       "      <td>36</td>\n",
       "      <td>F</td>\n",
       "      <td>B</td>\n",
       "      <td>501.0</td>\n",
       "      <td>SINGLE FAMILY DWELLING</td>\n",
       "      <td>400.0</td>\n",
       "      <td>STRONG-ARM (HANDS, FIST, FEET OR BODILY FORCE)</td>\n",
       "      <td>AO</td>\n",
       "      <td>Adult Other</td>\n",
       "      <td>624</td>\n",
       "      <td>NaN</td>\n",
       "      <td>NaN</td>\n",
       "      <td>NaN</td>\n",
       "      <td>1100 W  39TH                         PL</td>\n",
       "      <td>NaN</td>\n",
       "      <td>34.0141</td>\n",
       "      <td>-118.2978</td>\n",
       "    </tr>\n",
       "    <tr>\n",
       "      <th>1</th>\n",
       "      <td>190101086</td>\n",
       "      <td>01/02/2020 12:00:00 AM</td>\n",
       "      <td>01/01/2020 12:00:00 AM</td>\n",
       "      <td>330</td>\n",
       "      <td>1</td>\n",
       "      <td>Central</td>\n",
       "      <td>163</td>\n",
       "      <td>2</td>\n",
       "      <td>624</td>\n",
       "      <td>BATTERY - SIMPLE ASSAULT</td>\n",
       "      <td>0416 1822 1414</td>\n",
       "      <td>25</td>\n",
       "      <td>M</td>\n",
       "      <td>H</td>\n",
       "      <td>102.0</td>\n",
       "      <td>SIDEWALK</td>\n",
       "      <td>500.0</td>\n",
       "      <td>UNKNOWN WEAPON/OTHER WEAPON</td>\n",
       "      <td>IC</td>\n",
       "      <td>Invest Cont</td>\n",
       "      <td>624</td>\n",
       "      <td>NaN</td>\n",
       "      <td>NaN</td>\n",
       "      <td>NaN</td>\n",
       "      <td>700 S  HILL                         ST</td>\n",
       "      <td>NaN</td>\n",
       "      <td>34.0459</td>\n",
       "      <td>-118.2545</td>\n",
       "    </tr>\n",
       "    <tr>\n",
       "      <th>2</th>\n",
       "      <td>190101087</td>\n",
       "      <td>01/02/2020 12:00:00 AM</td>\n",
       "      <td>01/01/2020 12:00:00 AM</td>\n",
       "      <td>510</td>\n",
       "      <td>1</td>\n",
       "      <td>Central</td>\n",
       "      <td>156</td>\n",
       "      <td>2</td>\n",
       "      <td>626</td>\n",
       "      <td>INTIMATE PARTNER - SIMPLE ASSAULT</td>\n",
       "      <td>1414 1218 2000 1814 0416 0447</td>\n",
       "      <td>53</td>\n",
       "      <td>F</td>\n",
       "      <td>B</td>\n",
       "      <td>502.0</td>\n",
       "      <td>MULTI-UNIT DWELLING (APARTMENT, DUPLEX, ETC)</td>\n",
       "      <td>400.0</td>\n",
       "      <td>STRONG-ARM (HANDS, FIST, FEET OR BODILY FORCE)</td>\n",
       "      <td>IC</td>\n",
       "      <td>Invest Cont</td>\n",
       "      <td>626</td>\n",
       "      <td>NaN</td>\n",
       "      <td>NaN</td>\n",
       "      <td>NaN</td>\n",
       "      <td>300 E  5TH                          ST</td>\n",
       "      <td>NaN</td>\n",
       "      <td>34.0449</td>\n",
       "      <td>-118.2458</td>\n",
       "    </tr>\n",
       "    <tr>\n",
       "      <th>3</th>\n",
       "      <td>191501505</td>\n",
       "      <td>01/01/2020 12:00:00 AM</td>\n",
       "      <td>01/01/2020 12:00:00 AM</td>\n",
       "      <td>1730</td>\n",
       "      <td>15</td>\n",
       "      <td>N Hollywood</td>\n",
       "      <td>1543</td>\n",
       "      <td>2</td>\n",
       "      <td>745</td>\n",
       "      <td>VANDALISM - MISDEAMEANOR ($399 OR UNDER)</td>\n",
       "      <td>0329 1402</td>\n",
       "      <td>76</td>\n",
       "      <td>F</td>\n",
       "      <td>W</td>\n",
       "      <td>502.0</td>\n",
       "      <td>MULTI-UNIT DWELLING (APARTMENT, DUPLEX, ETC)</td>\n",
       "      <td>NaN</td>\n",
       "      <td>NaN</td>\n",
       "      <td>IC</td>\n",
       "      <td>Invest Cont</td>\n",
       "      <td>745</td>\n",
       "      <td>998.0</td>\n",
       "      <td>NaN</td>\n",
       "      <td>NaN</td>\n",
       "      <td>5400    CORTEEN                      PL</td>\n",
       "      <td>NaN</td>\n",
       "      <td>34.1685</td>\n",
       "      <td>-118.4019</td>\n",
       "    </tr>\n",
       "    <tr>\n",
       "      <th>4</th>\n",
       "      <td>191921269</td>\n",
       "      <td>01/01/2020 12:00:00 AM</td>\n",
       "      <td>01/01/2020 12:00:00 AM</td>\n",
       "      <td>415</td>\n",
       "      <td>19</td>\n",
       "      <td>Mission</td>\n",
       "      <td>1998</td>\n",
       "      <td>2</td>\n",
       "      <td>740</td>\n",
       "      <td>VANDALISM - FELONY ($400 &amp; OVER, ALL CHURCH VA...</td>\n",
       "      <td>0329</td>\n",
       "      <td>31</td>\n",
       "      <td>X</td>\n",
       "      <td>X</td>\n",
       "      <td>409.0</td>\n",
       "      <td>BEAUTY SUPPLY STORE</td>\n",
       "      <td>NaN</td>\n",
       "      <td>NaN</td>\n",
       "      <td>IC</td>\n",
       "      <td>Invest Cont</td>\n",
       "      <td>740</td>\n",
       "      <td>NaN</td>\n",
       "      <td>NaN</td>\n",
       "      <td>NaN</td>\n",
       "      <td>14400    TITUS                        ST</td>\n",
       "      <td>NaN</td>\n",
       "      <td>34.2198</td>\n",
       "      <td>-118.4468</td>\n",
       "    </tr>\n",
       "  </tbody>\n",
       "</table>\n",
       "</div>"
      ],
      "text/plain": [
       "       DR_NO               Date Rptd                DATE OCC  TIME OCC  AREA  \\\n",
       "0   10304468  01/08/2020 12:00:00 AM  01/08/2020 12:00:00 AM      2230     3   \n",
       "1  190101086  01/02/2020 12:00:00 AM  01/01/2020 12:00:00 AM       330     1   \n",
       "2  190101087  01/02/2020 12:00:00 AM  01/01/2020 12:00:00 AM       510     1   \n",
       "3  191501505  01/01/2020 12:00:00 AM  01/01/2020 12:00:00 AM      1730    15   \n",
       "4  191921269  01/01/2020 12:00:00 AM  01/01/2020 12:00:00 AM       415    19   \n",
       "\n",
       "     AREA NAME  Rpt Dist No  Part 1-2  Crm Cd  \\\n",
       "0    Southwest          377         2     624   \n",
       "1      Central          163         2     624   \n",
       "2      Central          156         2     626   \n",
       "3  N Hollywood         1543         2     745   \n",
       "4      Mission         1998         2     740   \n",
       "\n",
       "                                         Crm Cd Desc  \\\n",
       "0                           BATTERY - SIMPLE ASSAULT   \n",
       "1                           BATTERY - SIMPLE ASSAULT   \n",
       "2                  INTIMATE PARTNER - SIMPLE ASSAULT   \n",
       "3           VANDALISM - MISDEAMEANOR ($399 OR UNDER)   \n",
       "4  VANDALISM - FELONY ($400 & OVER, ALL CHURCH VA...   \n",
       "\n",
       "                         Mocodes  Vict Age Vict Sex Vict Descent  Premis Cd  \\\n",
       "0                      0444 0913        36        F            B      501.0   \n",
       "1                 0416 1822 1414        25        M            H      102.0   \n",
       "2  1414 1218 2000 1814 0416 0447        53        F            B      502.0   \n",
       "3                      0329 1402        76        F            W      502.0   \n",
       "4                           0329        31        X            X      409.0   \n",
       "\n",
       "                                    Premis Desc  Weapon Used Cd  \\\n",
       "0                        SINGLE FAMILY DWELLING           400.0   \n",
       "1                                      SIDEWALK           500.0   \n",
       "2  MULTI-UNIT DWELLING (APARTMENT, DUPLEX, ETC)           400.0   \n",
       "3  MULTI-UNIT DWELLING (APARTMENT, DUPLEX, ETC)             NaN   \n",
       "4                           BEAUTY SUPPLY STORE             NaN   \n",
       "\n",
       "                                      Weapon Desc Status  Status Desc  \\\n",
       "0  STRONG-ARM (HANDS, FIST, FEET OR BODILY FORCE)     AO  Adult Other   \n",
       "1                     UNKNOWN WEAPON/OTHER WEAPON     IC  Invest Cont   \n",
       "2  STRONG-ARM (HANDS, FIST, FEET OR BODILY FORCE)     IC  Invest Cont   \n",
       "3                                             NaN     IC  Invest Cont   \n",
       "4                                             NaN     IC  Invest Cont   \n",
       "\n",
       "   Crm Cd 1  Crm Cd 2  Crm Cd 3  Crm Cd 4  \\\n",
       "0       624       NaN       NaN       NaN   \n",
       "1       624       NaN       NaN       NaN   \n",
       "2       626       NaN       NaN       NaN   \n",
       "3       745     998.0       NaN       NaN   \n",
       "4       740       NaN       NaN       NaN   \n",
       "\n",
       "                                   LOCATION Cross Street      LAT       LON  \n",
       "0   1100 W  39TH                         PL          NaN  34.0141 -118.2978  \n",
       "1    700 S  HILL                         ST          NaN  34.0459 -118.2545  \n",
       "2    300 E  5TH                          ST          NaN  34.0449 -118.2458  \n",
       "3   5400    CORTEEN                      PL          NaN  34.1685 -118.4019  \n",
       "4  14400    TITUS                        ST          NaN  34.2198 -118.4468  "
      ]
     },
     "execution_count": 4,
     "metadata": {},
     "output_type": "execute_result"
    }
   ],
   "source": [
    "pd.set_option('display.max_columns', 180)\n",
    "df_crime.head()"
   ]
  },
  {
   "cell_type": "markdown",
   "metadata": {},
   "source": [
    "## **3.2 Los Angeles Neighborhoods**"
   ]
  },
  {
   "cell_type": "markdown",
   "metadata": {},
   "source": [
    "To map out the crime data, we will work with neighborhoods,  which is created by the Official Certified Neighborhood Council boundaries in the City of Los Angeles created and maintained by the Bureau of Engineering / GIS Mapping Division. We download the shape file from the website and import it using GeoPandas."
   ]
  },
  {
   "cell_type": "code",
   "execution_count": 5,
   "metadata": {},
   "outputs": [
    {
     "data": {
      "text/html": [
       "<div>\n",
       "<style scoped>\n",
       "    .dataframe tbody tr th:only-of-type {\n",
       "        vertical-align: middle;\n",
       "    }\n",
       "\n",
       "    .dataframe tbody tr th {\n",
       "        vertical-align: top;\n",
       "    }\n",
       "\n",
       "    .dataframe thead th {\n",
       "        text-align: right;\n",
       "    }\n",
       "</style>\n",
       "<table border=\"1\" class=\"dataframe\">\n",
       "  <thead>\n",
       "    <tr style=\"text-align: right;\">\n",
       "      <th></th>\n",
       "      <th>date_certi</th>\n",
       "      <th>time_certi</th>\n",
       "      <th>dwebsite</th>\n",
       "      <th>name</th>\n",
       "      <th>nc_id</th>\n",
       "      <th>objectid</th>\n",
       "      <th>service_re</th>\n",
       "      <th>waddress</th>\n",
       "      <th>geometry</th>\n",
       "    </tr>\n",
       "  </thead>\n",
       "  <tbody>\n",
       "    <tr>\n",
       "      <th>0</th>\n",
       "      <td>2002-04-27</td>\n",
       "      <td>00:00:00.000</td>\n",
       "      <td>http://empowerla.org/LHNC</td>\n",
       "      <td>LINCOLN HEIGHTS NC</td>\n",
       "      <td>47.0</td>\n",
       "      <td>1.0</td>\n",
       "      <td>REGION 8 - NORTH EAST LA</td>\n",
       "      <td>http://www.lincolnheightsnc.org/</td>\n",
       "      <td>POLYGON ((-118.20503 34.05558, -118.20605 34.0...</td>\n",
       "    </tr>\n",
       "    <tr>\n",
       "      <th>1</th>\n",
       "      <td>2008-06-16</td>\n",
       "      <td>00:00:00.000</td>\n",
       "      <td>https://empowerla.org/voicesof90037/</td>\n",
       "      <td>VOICES OF 90037</td>\n",
       "      <td>109.0</td>\n",
       "      <td>2.0</td>\n",
       "      <td>REGION 9 - SOUTH LA 2</td>\n",
       "      <td>https://www.voicesnc.org</td>\n",
       "      <td>POLYGON ((-118.28273 34.01114, -118.28234 34.0...</td>\n",
       "    </tr>\n",
       "    <tr>\n",
       "      <th>2</th>\n",
       "      <td>2002-06-11</td>\n",
       "      <td>00:00:00.000</td>\n",
       "      <td>http://empowerla.org/LFNC</td>\n",
       "      <td>LOS FELIZ NC</td>\n",
       "      <td>36.0</td>\n",
       "      <td>3.0</td>\n",
       "      <td>REGION 7 - EAST</td>\n",
       "      <td>http://www.losfeliznc.org/</td>\n",
       "      <td>POLYGON ((-118.30027 34.15793, -118.29883 34.1...</td>\n",
       "    </tr>\n",
       "    <tr>\n",
       "      <th>3</th>\n",
       "      <td>2005-04-19</td>\n",
       "      <td>00:00:00.000</td>\n",
       "      <td>http://empowerla.org/MHNC</td>\n",
       "      <td>MISSION HILLS NC</td>\n",
       "      <td>101.0</td>\n",
       "      <td>4.0</td>\n",
       "      <td>REGION 1 - NORTH EAST VALLEY</td>\n",
       "      <td>http://mhnconline.org/</td>\n",
       "      <td>POLYGON ((-118.46933 34.28050, -118.46931 34.2...</td>\n",
       "    </tr>\n",
       "    <tr>\n",
       "      <th>4</th>\n",
       "      <td>2002-09-10</td>\n",
       "      <td>00:00:00.000</td>\n",
       "      <td>http://empowerla.org/GTLNC</td>\n",
       "      <td>GREATER TOLUCA LAKE NC</td>\n",
       "      <td>28.0</td>\n",
       "      <td>5.0</td>\n",
       "      <td>REGION 4 - SOUTH EAST VALLEY</td>\n",
       "      <td>http://www.gtlnc.org/</td>\n",
       "      <td>POLYGON ((-118.35520 34.16491, -118.35529 34.1...</td>\n",
       "    </tr>\n",
       "  </tbody>\n",
       "</table>\n",
       "</div>"
      ],
      "text/plain": [
       "   date_certi    time_certi                              dwebsite  \\\n",
       "0  2002-04-27  00:00:00.000             http://empowerla.org/LHNC   \n",
       "1  2008-06-16  00:00:00.000  https://empowerla.org/voicesof90037/   \n",
       "2  2002-06-11  00:00:00.000             http://empowerla.org/LFNC   \n",
       "3  2005-04-19  00:00:00.000             http://empowerla.org/MHNC   \n",
       "4  2002-09-10  00:00:00.000            http://empowerla.org/GTLNC   \n",
       "\n",
       "                     name  nc_id  objectid                    service_re  \\\n",
       "0      LINCOLN HEIGHTS NC   47.0       1.0      REGION 8 - NORTH EAST LA   \n",
       "1         VOICES OF 90037  109.0       2.0         REGION 9 - SOUTH LA 2   \n",
       "2            LOS FELIZ NC   36.0       3.0               REGION 7 - EAST   \n",
       "3        MISSION HILLS NC  101.0       4.0  REGION 1 - NORTH EAST VALLEY   \n",
       "4  GREATER TOLUCA LAKE NC   28.0       5.0  REGION 4 - SOUTH EAST VALLEY   \n",
       "\n",
       "                           waddress  \\\n",
       "0  http://www.lincolnheightsnc.org/   \n",
       "1          https://www.voicesnc.org   \n",
       "2        http://www.losfeliznc.org/   \n",
       "3            http://mhnconline.org/   \n",
       "4             http://www.gtlnc.org/   \n",
       "\n",
       "                                            geometry  \n",
       "0  POLYGON ((-118.20503 34.05558, -118.20605 34.0...  \n",
       "1  POLYGON ((-118.28273 34.01114, -118.28234 34.0...  \n",
       "2  POLYGON ((-118.30027 34.15793, -118.29883 34.1...  \n",
       "3  POLYGON ((-118.46933 34.28050, -118.46931 34.2...  \n",
       "4  POLYGON ((-118.35520 34.16491, -118.35529 34.1...  "
      ]
     },
     "execution_count": 5,
     "metadata": {},
     "output_type": "execute_result"
    }
   ],
   "source": [
    "nbrhoods = gpd.read_file('la_neighborhoods.shp')\n",
    "nbrhoods.head()"
   ]
  },
  {
   "cell_type": "code",
   "execution_count": 6,
   "metadata": {},
   "outputs": [
    {
     "data": {
      "image/png": "[encoded data removed]",
      "text/plain": [
       "<Figure size 864x1008 with 1 Axes>"
      ]
     },
     "metadata": {
      "needs_background": "light"
     },
     "output_type": "display_data"
    }
   ],
   "source": [
    "nbrhoods.plot(figsize=(12,14))\n",
    "plt.show()"
   ]
  },
  {
   "cell_type": "markdown",
   "metadata": {},
   "source": [
    "## **3.3 Los Angeles Housing Data Analysis**\n",
    "\n",
    "Import the building permits data and perform initial check. "
   ]
  },
  {
   "cell_type": "code",
   "execution_count": 12,
   "metadata": {},
   "outputs": [
    {
     "name": "stdout",
     "output_type": "stream",
     "text": [
      "<class 'pandas.core.frame.DataFrame'>\n",
      "RangeIndex: 78384 entries, 0 to 78383\n",
      "Data columns (total 56 columns):\n",
      " #   Column                                    Non-Null Count  Dtype  \n",
      "---  ------                                    --------------  -----  \n",
      " 0   Assessor Book                             78333 non-null  float64\n",
      " 1   Assessor Page                             78333 non-null  object \n",
      " 2   Assessor Parcel                           78333 non-null  object \n",
      " 3   Tract                                     77996 non-null  object \n",
      " 4   Block                                     15325 non-null  object \n",
      " 5   Lot                                       77923 non-null  object \n",
      " 6   Reference # (Old Permit #)                39992 non-null  object \n",
      " 7   PCIS Permit #                             78384 non-null  object \n",
      " 8   Status                                    78384 non-null  object \n",
      " 9   Status Date                               78384 non-null  object \n",
      " 10  Permit Type                               78384 non-null  object \n",
      " 11  Permit Sub-Type                           78384 non-null  object \n",
      " 12  Permit Category                           78384 non-null  object \n",
      " 13  Project Number                            549 non-null    float64\n",
      " 14  Event Code                                0 non-null      float64\n",
      " 15  Initiating Office                         78384 non-null  object \n",
      " 16  Issue Date                                78384 non-null  object \n",
      " 17  Address Start                             78383 non-null  float64\n",
      " 18  Address Fraction Start                    1202 non-null   object \n",
      " 19  Address End                               78383 non-null  float64\n",
      " 20  Address Fraction End                      2474 non-null   object \n",
      " 21  Street Direction                          77738 non-null  object \n",
      " 22  Street Name                               78384 non-null  object \n",
      " 23  Street Suffix                             76930 non-null  object \n",
      " 24  Suffix Direction                          658 non-null    object \n",
      " 25  Unit Range Start                          15203 non-null  object \n",
      " 26  Unit Range End                            1635 non-null   object \n",
      " 27  Zip Code                                  78382 non-null  float64\n",
      " 28  Work Description                          40019 non-null  object \n",
      " 29  Valuation                                 33239 non-null  float64\n",
      " 30  Floor Area-L.A. Zoning Code Definition    8722 non-null   float64\n",
      " 31  # of Residential Dwelling Units           4585 non-null   float64\n",
      " 32  # of Stories                              9506 non-null   float64\n",
      " 33  Contractor's Business Name                78369 non-null  object \n",
      " 34  Contractor Address                        66767 non-null  object \n",
      " 35  Contractor City                           66636 non-null  object \n",
      " 36  Contractor State                          66628 non-null  object \n",
      " 37  License Type                              66758 non-null  object \n",
      " 38  License #                                 78384 non-null  int64  \n",
      " 39  Principal First Name                      67527 non-null  object \n",
      " 40  Principal Middle Name                     46708 non-null  object \n",
      " 41  Principal Last Name                       67342 non-null  object \n",
      " 42  License Expiration Date                   70351 non-null  object \n",
      " 43  Applicant First Name                      72040 non-null  object \n",
      " 44  Applicant Last Name                       60639 non-null  object \n",
      " 45  Applicant Business Name                   5497 non-null   object \n",
      " 46  Applicant Address 1                       42642 non-null  object \n",
      " 47  Applicant Address 2                       13161 non-null  object \n",
      " 48  Applicant Address 3                       41906 non-null  object \n",
      " 49  Zone                                      78107 non-null  object \n",
      " 50  Occupancy                                 1108 non-null   object \n",
      " 51  Floor Area-L.A. Building Code Definition  60216 non-null  float64\n",
      " 52  Census Tract                              78332 non-null  float64\n",
      " 53  Council District                          78333 non-null  float64\n",
      " 54  Latitude/Longitude                        69616 non-null  object \n",
      " 55  Applicant Relationship                    76515 non-null  object \n",
      "dtypes: float64(13), int64(1), object(42)\n",
      "memory usage: 33.5+ MB\n"
     ]
    }
   ],
   "source": [
    "df_import = pd.read_csv(\"Building_Permits_by_Neighborhood_Council.csv\")\n",
    "df_import.info()"
   ]
  },
  {
   "cell_type": "markdown",
   "metadata": {},
   "source": [
    "We will work with the following columns only."
   ]
  },
  {
   "cell_type": "code",
   "execution_count": 13,
   "metadata": {},
   "outputs": [],
   "source": [
    "columns = ['Tract', \n",
    "           'Valuation',\n",
    "           'Latitude/Longitude']"
   ]
  },
  {
   "cell_type": "markdown",
   "metadata": {},
   "source": [
    "Make sure the data is only for 2020. "
   ]
  },
  {
   "cell_type": "code",
   "execution_count": 14,
   "metadata": {},
   "outputs": [],
   "source": [
    "df_housing = df_import[df_import['Assessor Book']==2020.0].loc[:,columns].reset_index(drop=True)"
   ]
  },
  {
   "cell_type": "markdown",
   "metadata": {},
   "source": [
    "Check if there's any Not a Number cells and drop if necessary."
   ]
  },
  {
   "cell_type": "code",
   "execution_count": 15,
   "metadata": {},
   "outputs": [
    {
     "data": {
      "text/plain": [
       "Tract                  0\n",
       "Valuation             54\n",
       "Latitude/Longitude     3\n",
       "dtype: int64"
      ]
     },
     "execution_count": 15,
     "metadata": {},
     "output_type": "execute_result"
    }
   ],
   "source": [
    "df_housing.isnull().sum()"
   ]
  },
  {
   "cell_type": "code",
   "execution_count": 16,
   "metadata": {},
   "outputs": [
    {
     "data": {
      "text/plain": [
       "Tract                 0\n",
       "Valuation             0\n",
       "Latitude/Longitude    0\n",
       "dtype: int64"
      ]
     },
     "execution_count": 16,
     "metadata": {},
     "output_type": "execute_result"
    }
   ],
   "source": [
    "df_housing.dropna(inplace=True)\n",
    "df_housing.isnull().sum()"
   ]
  },
  {
   "cell_type": "markdown",
   "metadata": {},
   "source": [
    "Computer overall value. "
   ]
  },
  {
   "cell_type": "code",
   "execution_count": 19,
   "metadata": {},
   "outputs": [],
   "source": [
    "df_housing['total_price'] = df_housing['Valuation']"
   ]
  },
  {
   "cell_type": "code",
   "execution_count": 20,
   "metadata": {},
   "outputs": [
    {
     "data": {
      "text/html": [
       "<div>\n",
       "<style scoped>\n",
       "    .dataframe tbody tr th:only-of-type {\n",
       "        vertical-align: middle;\n",
       "    }\n",
       "\n",
       "    .dataframe tbody tr th {\n",
       "        vertical-align: top;\n",
       "    }\n",
       "\n",
       "    .dataframe thead th {\n",
       "        text-align: right;\n",
       "    }\n",
       "</style>\n",
       "<table border=\"1\" class=\"dataframe\">\n",
       "  <thead>\n",
       "    <tr style=\"text-align: right;\">\n",
       "      <th></th>\n",
       "      <th>Tract</th>\n",
       "      <th>Valuation</th>\n",
       "      <th>Latitude/Longitude</th>\n",
       "      <th>total_price</th>\n",
       "    </tr>\n",
       "  </thead>\n",
       "  <tbody>\n",
       "    <tr>\n",
       "      <th>14</th>\n",
       "      <td>TR 37195</td>\n",
       "      <td>5750.0</td>\n",
       "      <td>(34.2181, -118.64379)</td>\n",
       "      <td>5750.0</td>\n",
       "    </tr>\n",
       "    <tr>\n",
       "      <th>15</th>\n",
       "      <td>TR 36515</td>\n",
       "      <td>3750.0</td>\n",
       "      <td>(34.2134, -118.63698)</td>\n",
       "      <td>3750.0</td>\n",
       "    </tr>\n",
       "    <tr>\n",
       "      <th>17</th>\n",
       "      <td>TR 37195</td>\n",
       "      <td>15000.0</td>\n",
       "      <td>(34.21779, -118.64479)</td>\n",
       "      <td>15000.0</td>\n",
       "    </tr>\n",
       "    <tr>\n",
       "      <th>26</th>\n",
       "      <td>TR 37199</td>\n",
       "      <td>8700.0</td>\n",
       "      <td>(34.21203, -118.6514)</td>\n",
       "      <td>8700.0</td>\n",
       "    </tr>\n",
       "    <tr>\n",
       "      <th>27</th>\n",
       "      <td>TR 26315</td>\n",
       "      <td>10000.0</td>\n",
       "      <td>(34.2179, -118.63405)</td>\n",
       "      <td>10000.0</td>\n",
       "    </tr>\n",
       "  </tbody>\n",
       "</table>\n",
       "</div>"
      ],
      "text/plain": [
       "       Tract  Valuation      Latitude/Longitude  total_price\n",
       "14  TR 37195     5750.0   (34.2181, -118.64379)       5750.0\n",
       "15  TR 36515     3750.0   (34.2134, -118.63698)       3750.0\n",
       "17  TR 37195    15000.0  (34.21779, -118.64479)      15000.0\n",
       "26  TR 37199     8700.0   (34.21203, -118.6514)       8700.0\n",
       "27  TR 26315    10000.0   (34.2179, -118.63405)      10000.0"
      ]
     },
     "execution_count": 20,
     "metadata": {},
     "output_type": "execute_result"
    }
   ],
   "source": [
    "df_housing.head()"
   ]
  },
  {
   "cell_type": "code",
   "execution_count": null,
   "metadata": {},
   "outputs": [],
   "source": []
  }
 ],
 "metadata": {
  "kernelspec": {
   "display_name": "Python",
   "language": "python",
   "name": "conda-env-python-py"
  },
  "language_info": {
   "codemirror_mode": {
    "name": "ipython",
    "version": 3
   },
   "file_extension": ".py",
   "mimetype": "text/x-python",
   "name": "python",
   "nbconvert_exporter": "python",
   "pygments_lexer": "ipython3",
   "version": "3.6.10"
  }
 },
 "nbformat": 4,
 "nbformat_minor": 4
}
